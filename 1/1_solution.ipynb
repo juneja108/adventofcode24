{
 "cells": [
  {
   "cell_type": "code",
   "id": "initial_id",
   "metadata": {
    "collapsed": true
   },
   "source": "import pandas as pd",
   "outputs": [],
   "execution_count": null
  },
  {
   "metadata": {},
   "cell_type": "code",
   "source": [
    "puzzle_input = pd.read_csv('1_puzzle_input.csv')\n",
    "puzzle_input"
   ],
   "id": "54fe2026afc8d0f0",
   "outputs": [],
   "execution_count": null
  },
  {
   "metadata": {
    "ExecuteTime": {
     "end_time": "2024-12-25T20:49:04.244896Z",
     "start_time": "2024-12-25T20:49:04.233676Z"
    }
   },
   "cell_type": "code",
   "source": [
    "sorted_input_a = puzzle_input.sort_values(by='a', ascending=True).a\n",
    "sorted_input_a = sorted_input_a.reset_index(drop=True)\n",
    "sorted_input_a"
   ],
   "id": "5ac09a9272839e47",
   "outputs": [
    {
     "data": {
      "text/plain": [
       "0      10019\n",
       "1      10130\n",
       "2      10326\n",
       "3      10456\n",
       "4      10488\n",
       "       ...  \n",
       "995    99602\n",
       "996    99664\n",
       "997    99705\n",
       "998    99868\n",
       "999    99887\n",
       "Name: a, Length: 1000, dtype: int64"
      ]
     },
     "execution_count": 75,
     "metadata": {},
     "output_type": "execute_result"
    }
   ],
   "execution_count": 75
  },
  {
   "metadata": {
    "ExecuteTime": {
     "end_time": "2024-12-25T20:49:59.878968Z",
     "start_time": "2024-12-25T20:49:59.867545Z"
    }
   },
   "cell_type": "code",
   "source": [
    "sorted_input_b = puzzle_input.sort_values(by='b', ascending=True).b\n",
    "sorted_input_b = sorted_input_b.reset_index(drop=True)\n",
    "sorted_input_b"
   ],
   "id": "10e16f269cfa5f1c",
   "outputs": [
    {
     "data": {
      "text/plain": [
       "0      10136\n",
       "1      10295\n",
       "2      10727\n",
       "3      11145\n",
       "4      11195\n",
       "       ...  \n",
       "995    99250\n",
       "996    99451\n",
       "997    99469\n",
       "998    99609\n",
       "999    99921\n",
       "Name: b, Length: 1000, dtype: int64"
      ]
     },
     "execution_count": 76,
     "metadata": {},
     "output_type": "execute_result"
    }
   ],
   "execution_count": 76
  },
  {
   "metadata": {
    "ExecuteTime": {
     "end_time": "2024-12-25T20:55:06.206414Z",
     "start_time": "2024-12-25T20:55:06.185590Z"
    }
   },
   "cell_type": "code",
   "source": [
    "distances: [list[int]] = []\n",
    "for i in range(0, 1000):\n",
    "    distances.append(abs(int(sorted_input_a[i] - sorted_input_b[i])))\n",
    "\n",
    "final_distance = 0\n",
    "for i in range(0, len(distances)):\n",
    "    final_distance += distances[i]"
   ],
   "id": "573438de870f12d",
   "outputs": [],
   "execution_count": 81
  },
  {
   "metadata": {
    "ExecuteTime": {
     "end_time": "2024-12-25T20:55:08.737675Z",
     "start_time": "2024-12-25T20:55:08.729892Z"
    }
   },
   "cell_type": "code",
   "source": "final_distance",
   "id": "f234c092050084af",
   "outputs": [
    {
     "data": {
      "text/plain": [
       "2196996"
      ]
     },
     "execution_count": 82,
     "metadata": {},
     "output_type": "execute_result"
    }
   ],
   "execution_count": 82
  }
 ],
 "metadata": {
  "kernelspec": {
   "display_name": "Python 3",
   "language": "python",
   "name": "python3"
  },
  "language_info": {
   "codemirror_mode": {
    "name": "ipython",
    "version": 2
   },
   "file_extension": ".py",
   "mimetype": "text/x-python",
   "name": "python",
   "nbconvert_exporter": "python",
   "pygments_lexer": "ipython2",
   "version": "2.7.6"
  }
 },
 "nbformat": 4,
 "nbformat_minor": 5
}
